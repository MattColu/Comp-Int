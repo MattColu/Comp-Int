{
 "cells": [
  {
   "cell_type": "code",
   "execution_count": 9,
   "metadata": {},
   "outputs": [],
   "source": [
    "import random\n",
    "from collections import namedtuple\n",
    "\n",
    "Nimply = namedtuple(\"Nimply\", \"row, num_objects\")\n",
    "Gene = namedtuple(\"Gene\", [\"condition\",\"action\",\"place\"])\n",
    "Individual = namedtuple(\"Individual\", [\"genome\", \"fitness\"])"
   ]
  },
  {
   "cell_type": "markdown",
   "metadata": {},
   "source": [
    "## Global Variables"
   ]
  },
  {
   "cell_type": "code",
   "execution_count": 10,
   "metadata": {},
   "outputs": [],
   "source": [
    "eval_amount = 1000\n",
    "genome_size = 3\n",
    "population_size = 100\n",
    "offspring_size = 50\n",
    "generations = 1000\n",
    "mutation_rate = 0.5"
   ]
  },
  {
   "cell_type": "code",
   "execution_count": 11,
   "metadata": {},
   "outputs": [],
   "source": [
    "def nimSum(rows):\n",
    "    sum=rows[0]\n",
    "    for i in rows[1:]:\n",
    "        sum^=i\n",
    "    return sum\n",
    "\n",
    "def checkMisere(rows):\n",
    "    cnt=0\n",
    "    nonOneRow=-1\n",
    "    for i,row in enumerate(rows):\n",
    "        if row>=2:\n",
    "            cnt+=1\n",
    "            nonOneRow=i\n",
    "        if cnt==2:\n",
    "            return -1\n",
    "    return nonOneRow"
   ]
  },
  {
   "cell_type": "markdown",
   "metadata": {},
   "source": [
    "## Nim"
   ]
  },
  {
   "cell_type": "code",
   "execution_count": 12,
   "metadata": {},
   "outputs": [],
   "source": [
    "class Nim:\n",
    "    def __init__(self, num_rows: int, k: int = None) -> None:\n",
    "        self._rows = [2*i + 1 for i in range(num_rows)]\n",
    "        self._k = k\n",
    "\n",
    "    def nimming(self, ply:Nimply) -> None:\n",
    "        if ply is None:\n",
    "            for i,_ in self._rows:\n",
    "                self._rows[i] = 0\n",
    "            return\n",
    "        row, num_objects=ply\n",
    "        assert num_objects>0\n",
    "        assert self._rows[row] >= num_objects\n",
    "        assert self._k is None or num_objects <= self._k\n",
    "        self._rows[row] -= num_objects\n",
    "\n",
    "    def __bool__(self):\n",
    "        return sum(self._rows) > 0\n",
    "    def __str__(self):\n",
    "        return \"<\" + \" \".join(str(_) for _ in self._rows) + \">\"\n",
    "    @property\n",
    "    def rows(self) -> tuple:\n",
    "        return tuple(self._rows)\n",
    "    @property\n",
    "    def k(self) -> int:\n",
    "        return self._k\n",
    "\n",
    "    def endTest(self):\n",
    "        if sum(self._rows) == 0:\n",
    "            print(\"You lost\")\n",
    "            return 1\n",
    "        return 0\n",
    "\n",
    "    def board(self)->None:\n",
    "        for i,row in enumerate(self._rows):\n",
    "            print(i,\":\",end=\" \")\n",
    "            for j in range(row):\n",
    "                print(\"|\", end=' ')\n",
    "            print(\"\\n\")"
   ]
  },
  {
   "cell_type": "markdown",
   "metadata": {},
   "source": [
    "## Condition"
   ]
  },
  {
   "cell_type": "code",
   "execution_count": 13,
   "metadata": {},
   "outputs": [],
   "source": [
    "def even_elems_if(state: Nim) -> bool:\n",
    "    return sum(state.rows)%2 == 0\n",
    "\n",
    "def odd_elems_if(state: Nim) -> bool:\n",
    "    return sum(state.rows)%2 != 0\n",
    "\n",
    "def even_stacks_if(state: Nim) -> bool:\n",
    "    return len(state.rows)%2 == 0\n",
    "\n",
    "def odd_stacks_if(state: Nim) -> bool:\n",
    "    return len(state.rows)%2 != 0\n",
    "\n",
    "def nimsum_if(state: Nim) -> bool:\n",
    "    return nimSum(state.rows)!=0 \n",
    "\n",
    "conditions = {\"even_elems\": even_elems_if, \"odd_elems\": odd_elems_if, \"even_stacks\": even_stacks_if, \"odd_stacks\": odd_stacks_if, \"nimsum\": nimsum_if}"
   ]
  },
  {
   "cell_type": "markdown",
   "metadata": {},
   "source": [
    "## Action"
   ]
  },
  {
   "cell_type": "code",
   "execution_count": 14,
   "metadata": {},
   "outputs": [],
   "source": [
    "\n",
    "def all_get(state: Nim, row: int) -> Nimply:\n",
    "    num_objects = state.rows[row]\n",
    "    return Nimply(row, num_objects)\n",
    "\n",
    "def one_get(state: Nim, row: int) -> Nimply:\n",
    "    num_objects = 1\n",
    "    return Nimply(row, num_objects)\n",
    "\n",
    "def half_get(state: Nim, row: int) -> Nimply:\n",
    "    num_objects = state.rows[row]/2\n",
    "    return Nimply(row, num_objects)\n",
    "\n",
    "def rand_get(state: Nim, row: int) -> Nimply:\n",
    "    num_objects = random.randint(1, state.rows[row])\n",
    "    return Nimply(row, num_objects)\n",
    "\n",
    "def nimsum_get(state: Nim, row: int) -> Nimply:\n",
    "    rows=game.rows\n",
    "    totNimSum=nimSum(rows)\n",
    "    if(totNimSum!=0):\n",
    "        nonOneRow=checkMisere(rows)\n",
    "        if nonOneRow!=-1:\n",
    "            if len([_ for _ in rows if _!=0])%2==0:\n",
    "                return Nimply(nonOneRow, rows[nonOneRow])\n",
    "            else:\n",
    "                return Nimply(nonOneRow, rows[nonOneRow]-1)\n",
    "        for i,row in enumerate(rows):\n",
    "            lineNimSum=nimSum([totNimSum,row])\n",
    "            if(lineNimSum<row):\n",
    "                return Nimply(i,row-lineNimSum)\n",
    "    return rand_get(state, row)\n",
    "\n",
    "actions = {\"all\": all_get, \"one\": one_get, \"half\": half_get, \"rand\": rand_get, \"nimsum\": nimsum_get}"
   ]
  },
  {
   "cell_type": "markdown",
   "metadata": {},
   "source": [
    "## Place"
   ]
  },
  {
   "cell_type": "code",
   "execution_count": 15,
   "metadata": {},
   "outputs": [],
   "source": [
    "def rand_place(state: Nim) -> int:\n",
    "    row = random.choice([r for r, c in enumerate(state.rows) if c > 0])\n",
    "    return row\n",
    "\n",
    "def most_place(state: Nim) -> int:\n",
    "    row = state.rows.index(max(state.rows))\n",
    "    return row\n",
    "\n",
    "def least_place(state: Nim) -> int:\n",
    "    row = state.rows.index(min(state.rows))\n",
    "    return row\n",
    "\n",
    "def nimsum_place(state: Nim) -> int:\n",
    "    rows=game.rows\n",
    "    totNimSum=nimSum(rows)\n",
    "    if(totNimSum!=0):\n",
    "        nonOneRow=checkMisere(rows)\n",
    "        if nonOneRow!=-1:\n",
    "            return nonOneRow\n",
    "        for i,row in enumerate(rows):\n",
    "            lineNimSum=nimSum([totNimSum,row])\n",
    "            if(lineNimSum<row):\n",
    "                return i\n",
    "    return rand_place(state)\n",
    "\n",
    "places = {\"rand\": rand_place, \"most\": most_place, \"least\": least_place, \"nimsum\": nimsum_place}"
   ]
  },
  {
   "cell_type": "markdown",
   "metadata": {},
   "source": [
    "## Fitness"
   ]
  },
  {
   "cell_type": "code",
   "execution_count": 16,
   "metadata": {},
   "outputs": [],
   "source": [
    "def evaluate(genome: list(Gene)) -> float:\n",
    "    win_count = 0\n",
    "    for _ in range(eval_amount):\n",
    "        while not game.endTest():\n",
    "            turn = 1 - turn\n",
    "            if not turn:\n",
    "                game.nimming(play(genome))\n",
    "            else:\n",
    "                game.nimming(pure_random(game))\n",
    "        if turn:\n",
    "            win_count += 1\n",
    "    return win_count/eval_amount"
   ]
  },
  {
   "cell_type": "markdown",
   "metadata": {},
   "source": [
    "## Full Strategies"
   ]
  },
  {
   "cell_type": "code",
   "execution_count": 17,
   "metadata": {},
   "outputs": [],
   "source": [
    "def pure_random(state: Nim) -> Nimply:\n",
    "    row = random.choice([r for r, c in enumerate(state.rows) if c > 0])\n",
    "    num_objects = random.randint(1, state.rows[row])\n",
    "    return Nimply(row, num_objects)\n",
    "\n",
    "def dumb(state: Nim) -> Nimply:\n",
    "    possible_moves = [(r, o) for r, c in enumerate(state.rows) for o in range(1, c + 1)]\n",
    "    return Nimply(*max(possible_moves, key=lambda m: (-m[0], m[1])))\n",
    "\n",
    "def expert(game) -> Nimply:\n",
    "    rows=game.rows\n",
    "    totNimSum=nimSum(rows)\n",
    "    if(totNimSum!=0):\n",
    "        nonOneRow=checkMisere(rows)\n",
    "        if nonOneRow!=-1:\n",
    "            if len([_ for _ in rows if _!=0])%2==0:\n",
    "                return Nimply(nonOneRow,rows[nonOneRow])\n",
    "            else:\n",
    "                return Nimply(nonOneRow, rows[nonOneRow]-1)\n",
    "        for i,row in enumerate(rows):\n",
    "            lineNimSum=nimSum([totNimSum,row])\n",
    "            if(lineNimSum<row):\n",
    "                print(f\"removing {row-lineNimSum} elements from row {i}\")\n",
    "                return Nimply(i,row-lineNimSum)\n",
    "    return pure_random(game)\n",
    "\n",
    "def human_play(game) -> Nimply:\n",
    "    while 1:\n",
    "        str=input(\"Enter row index and number of elements to remove: \")\n",
    "        rowIdx, n=str.split(\" \")\n",
    "        if int(rowIdx)>=len(game.rows):\n",
    "            print(\"Invalid row!\")\n",
    "        elif int(n)>game.rows[int(rowIdx)]:\n",
    "            print(\"Invalid number, convert to maximum!\")\n",
    "            n=game.rows[int(rowIdx)]\n",
    "            return Nimply(int(rowIdx), int(n))\n",
    "        else:\n",
    "            return Nimply(int(rowIdx),int(n))\n",
    "        \n",
    "def lose_game() -> Nimply:\n",
    "    return None\n",
    "\n",
    "def play(state: Nim, genome: list(Gene)) -> Nimply:\n",
    "    for g in genome:\n",
    "        if (conditions[g.condition](state)):\n",
    "            return Nimply(actions[g.action](state, places[g.place](state)))\n",
    "    return lose_game() "
   ]
  },
  {
   "cell_type": "markdown",
   "metadata": {},
   "source": [
    "## GA Functions"
   ]
  },
  {
   "cell_type": "code",
   "execution_count": null,
   "metadata": {},
   "outputs": [],
   "source": [
    "def generate_population(population_size):\n",
    "    population = list()\n",
    "    for _ in range(population_size):\n",
    "        genome = list()\n",
    "        for _ in range(genome_size):\n",
    "            gene = (random.choice(conditions.keys()), random.choice(actions.keys()), random.choice(places.keys()))\n",
    "            genome.push(gene)\n",
    "        population.push(Individual(genome, evaluate(genome)))\n",
    "    return population\n",
    "\n",
    "def mutation(indiv: Individual) -> Individual:\n",
    "    mutable = [conditions, actions, places]\n",
    "    \n",
    "    mut_gene_idx = random.randrange(0, genome_size)\n",
    "    mut_attr_idx = random.randrange(0, len(Gene))\n",
    "    attr = indiv.genome[mut_gene_idx][mut_attr_idx]\n",
    "    \n",
    "    acceptable = mutable[mut_attr_idx].keys().remove(attr)\n",
    "    new_gene = random.choice(acceptable)\n",
    "    new_genome = indiv.genome[:mut_gene_idx] + new_gene + indiv.genome[mut_gene_idx+1:]\n",
    "    return Individual(new_genome, evaluate(new_genome))\n",
    "        \n",
    "def cross_over(i1: Individual, i2: Individual) -> Individual:\n",
    "    #TODO\n",
    "    pass\n",
    "    \n",
    "def evolution():\n",
    "    #TODO\n",
    "    pass"
   ]
  },
  {
   "cell_type": "code",
   "execution_count": null,
   "metadata": {},
   "outputs": [],
   "source": [
    "if __name__ == '__main__':\n",
    "    game=Nim(5)\n",
    "    game.board()\n",
    "    print(\"current nim sum: \",nimSum(game._rows))\n",
    "    turn=1\n",
    "    while not game.endTest():\n",
    "        turn = 1 - turn\n",
    "        if not turn:\n",
    "            print(\"Your turn:\")\n",
    "            game.nimming(human_play(game))\n",
    "        else:\n",
    "            print(\"Agent turn:\")\n",
    "            game.nimming(expert(game))\n",
    "        game.board()\n",
    "    if not turn:\n",
    "        print(\"You lost\")\n",
    "    else:\n",
    "        print(\"Agent lost\")"
   ]
  }
 ],
 "metadata": {
  "kernelspec": {
   "display_name": "Python 3.10.6 64-bit",
   "language": "python",
   "name": "python3"
  },
  "language_info": {
   "codemirror_mode": {
    "name": "ipython",
    "version": 3
   },
   "file_extension": ".py",
   "mimetype": "text/x-python",
   "name": "python",
   "nbconvert_exporter": "python",
   "pygments_lexer": "ipython3",
   "version": "3.10.6"
  },
  "orig_nbformat": 4,
  "vscode": {
   "interpreter": {
    "hash": "cf44e1cfd43590f45f0e2b5c28e0f46babf55befe4ad1bacdd60a06d73372734"
   }
  }
 },
 "nbformat": 4,
 "nbformat_minor": 2
}
