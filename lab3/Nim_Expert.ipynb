{
 "cells": [
  {
   "attachments": {},
   "cell_type": "markdown",
   "metadata": {},
   "source": [
    "## Imports & Global Vars"
   ]
  },
  {
   "cell_type": "code",
   "execution_count": null,
   "metadata": {},
   "outputs": [],
   "source": [
    "from Nim import *\n",
    "\n",
    "nim_rows = 3"
   ]
  },
  {
   "attachments": {},
   "cell_type": "markdown",
   "metadata": {},
   "source": [
    "## Service Functions"
   ]
  },
  {
   "cell_type": "code",
   "execution_count": null,
   "metadata": {},
   "outputs": [],
   "source": [
    "def nimSum(rows):\n",
    "    sum=rows[0]\n",
    "    for i in rows[1:]:\n",
    "        sum^=i\n",
    "    return sum\n",
    "\n",
    "def checkMisere(rows):\n",
    "    cnt=0\n",
    "    nonOneRow=-1\n",
    "    for i,row in enumerate(rows):\n",
    "        if row>=2:\n",
    "            cnt+=1\n",
    "            nonOneRow=i\n",
    "        if cnt==2:\n",
    "            return -1\n",
    "    return nonOneRow\n",
    "\n",
    "def human_play(game) -> Nimply:\n",
    "    while 1:\n",
    "        str=input(\"Enter row index and number of elements to remove: \")\n",
    "        rowIdx, n = str.split(\" \")\n",
    "        if int(rowIdx) >= len(game.rows):\n",
    "            print(\"Invalid row!\")\n",
    "        elif int(n) > game.rows[int(rowIdx)]:\n",
    "            print(\"Invalid number, convert to maximum!\")\n",
    "            n = game.rows[int(rowIdx)]\n",
    "            return Nimply(int(rowIdx), int(n))\n",
    "        else:\n",
    "            return Nimply(int(rowIdx),int(n))"
   ]
  },
  {
   "attachments": {},
   "cell_type": "markdown",
   "metadata": {},
   "source": [
    "## Random Policy"
   ]
  },
  {
   "cell_type": "code",
   "execution_count": null,
   "metadata": {},
   "outputs": [],
   "source": [
    "def pure_random(state: Nim) -> Nimply:\n",
    "    row = random.choice([r for r, c in enumerate(state.rows) if c > 0])\n",
    "    num_objects = random.randint(1, state.rows[row])\n",
    "    return Nimply(row, num_objects)"
   ]
  },
  {
   "attachments": {},
   "cell_type": "markdown",
   "metadata": {},
   "source": [
    "## Expert Policy"
   ]
  },
  {
   "cell_type": "code",
   "execution_count": null,
   "metadata": {},
   "outputs": [],
   "source": [
    "def expert(game):\n",
    "    rows=game.rows\n",
    "    totNimSum=nimSum(rows)\n",
    "    if(totNimSum!=0):\n",
    "        OneRow=checkMisere(rows)\n",
    "        if OneRow!=-1:\n",
    "            if len([_ for _ in rows if _!=0])%2==0:\n",
    "                return Nimply(OneRow,rows[OneRow])\n",
    "            else:\n",
    "                return Nimply(OneRow, rows[OneRow]-1)\n",
    "        for i,row in enumerate(rows):\n",
    "            lineNimSum=nimSum([totNimSum,row])\n",
    "            if(lineNimSum<row):\n",
    "                return Nimply(i,row-lineNimSum)\n",
    "    return pure_random(game)"
   ]
  },
  {
   "attachments": {},
   "cell_type": "markdown",
   "metadata": {},
   "source": [
    "## Play"
   ]
  },
  {
   "cell_type": "code",
   "execution_count": null,
   "metadata": {},
   "outputs": [],
   "source": [
    "game = Nim(nim_rows)\n",
    "\n",
    "sandbox(game, expert)"
   ]
  }
 ],
 "metadata": {
  "kernelspec": {
   "display_name": "Python 3",
   "language": "python",
   "name": "python3"
  },
  "language_info": {
   "codemirror_mode": {
    "name": "ipython",
    "version": 3
   },
   "file_extension": ".py",
   "mimetype": "text/x-python",
   "name": "python",
   "nbconvert_exporter": "python",
   "pygments_lexer": "ipython3",
   "version": "3.10.6"
  },
  "orig_nbformat": 4,
  "vscode": {
   "interpreter": {
    "hash": "cf44e1cfd43590f45f0e2b5c28e0f46babf55befe4ad1bacdd60a06d73372734"
   }
  }
 },
 "nbformat": 4,
 "nbformat_minor": 2
}
