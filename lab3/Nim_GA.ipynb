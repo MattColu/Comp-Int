{
 "cells": [
  {
   "attachments": {},
   "cell_type": "markdown",
   "metadata": {},
   "source": [
    "## Imports & Global Vars"
   ]
  },
  {
   "cell_type": "code",
   "execution_count": 1,
   "metadata": {},
   "outputs": [],
   "source": [
    "from Nim import *\n",
    "\n",
    "Gene = namedtuple(\"Gene\", [\"condition\",\"action\",\"place\"])\n",
    "Individual = namedtuple(\"Individual\", [\"genome\", \"fitness\"])\n",
    "\n",
    "nim_rows = 5\n",
    "eval_amount = 2000\n",
    "genome_size = 3\n",
    "population_size = 20\n",
    "offspring_size = 50\n",
    "generations = 10\n",
    "mutation_rate = 0.5"
   ]
  },
  {
   "attachments": {},
   "cell_type": "markdown",
   "metadata": {},
   "source": [
    "## Conditions"
   ]
  },
  {
   "cell_type": "code",
   "execution_count": 2,
   "metadata": {},
   "outputs": [],
   "source": [
    "def even_elems_if(state: Nim) -> bool:\n",
    "    return sum(state.rows)%2 == 0\n",
    "\n",
    "def odd_elems_if(state: Nim) -> bool:\n",
    "    return sum(state.rows)%2 != 0\n",
    "\n",
    "def even_stacks_if(state: Nim) -> bool:\n",
    "    return len(state.rows)%2 == 0\n",
    "\n",
    "def odd_stacks_if(state: Nim) -> bool:\n",
    "    return len(state.rows)%2 != 0\n",
    "\n",
    "def nimsum_if(state: Nim) -> bool:\n",
    "    return nimSum(state.rows)!=0 "
   ]
  },
  {
   "cell_type": "code",
   "execution_count": 3,
   "metadata": {},
   "outputs": [],
   "source": [
    "conditions = {\"even_elems\": even_elems_if, \"odd_elems\": odd_elems_if, \"even_stacks\": even_stacks_if, \"odd_stacks\": odd_stacks_if, \"nimsum\": nimsum_if}"
   ]
  },
  {
   "attachments": {},
   "cell_type": "markdown",
   "metadata": {},
   "source": [
    "## Actions"
   ]
  },
  {
   "cell_type": "code",
   "execution_count": 4,
   "metadata": {},
   "outputs": [],
   "source": [
    "def all_get(state: Nim, row: int) -> Nimply:\n",
    "    num_objects = state.rows[row]\n",
    "    return Nimply(row, num_objects)\n",
    "\n",
    "def one_get(state: Nim, row: int) -> Nimply:\n",
    "    num_objects = 1\n",
    "    return Nimply(row, num_objects)\n",
    "\n",
    "def half_get(state: Nim, row: int) -> Nimply:\n",
    "    num_objects = max(1,state.rows[row]//2)\n",
    "    return Nimply(row, num_objects)\n",
    "\n",
    "def rand_get(state: Nim, row: int) -> Nimply:\n",
    "    num_objects = random.randint(1, state.rows[row])\n",
    "    return Nimply(row, num_objects)\n",
    "\n",
    "def nimsum_get(state: Nim, row: int) -> Nimply:\n",
    "    rows = state.rows\n",
    "    totNimSum=nimSum(rows)\n",
    "\n",
    "    if checkMisere(rows) != -1:\n",
    "        if len(rows) % 2 == 0:\n",
    "            return Nimply(row, rows[row])\n",
    "        elif rows[row] > 1:\n",
    "            return Nimply(row, rows[row]-1)\n",
    "\n",
    "    lineNimSum=nimSum([totNimSum, rows[row]])\n",
    "    if (lineNimSum < rows[row]):\n",
    "        return Nimply(row, rows[row] - lineNimSum)\n",
    "    ply = rand_get(state,row)\n",
    "    return ply"
   ]
  },
  {
   "cell_type": "code",
   "execution_count": 5,
   "metadata": {},
   "outputs": [],
   "source": [
    "actions = {\"all\": all_get, \"one\": one_get, \"half\": half_get, \"rand\": rand_get, \"nimsum\": nimsum_get}"
   ]
  },
  {
   "attachments": {},
   "cell_type": "markdown",
   "metadata": {},
   "source": [
    "## Places"
   ]
  },
  {
   "cell_type": "code",
   "execution_count": 6,
   "metadata": {},
   "outputs": [],
   "source": [
    "def rand_place(state: Nim) -> int:\n",
    "    row = random.randrange(0,len(state.rows))\n",
    "    #print('rand place choose row: ', state, row)\n",
    "    return row\n",
    "\n",
    "def most_place(state: Nim) -> int:\n",
    "    row = state.rows.index(max(state.rows))\n",
    "    #print('most place choose row: ', state, row)\n",
    "    return row\n",
    "\n",
    "def least_place(state: Nim) -> int:\n",
    "    row = state.rows.index(min([c for r, c in enumerate(state.rows) if c > 0]))\n",
    "    return row\n",
    "\n",
    "def nimsum_place(state: Nim) -> int:\n",
    "    rows=state.rows\n",
    "    totNimSum=nimSum(rows)\n",
    "    if(totNimSum!=0):\n",
    "        nonOneRow=checkMisere(rows)\n",
    "        if nonOneRow!=-1:\n",
    "            return nonOneRow\n",
    "        for i,row in enumerate(rows):\n",
    "            lineNimSum=nimSum([totNimSum,row])\n",
    "            if(lineNimSum<row):\n",
    "                return i\n",
    "    return rand_place(state)"
   ]
  },
  {
   "cell_type": "code",
   "execution_count": 7,
   "metadata": {},
   "outputs": [],
   "source": [
    "places = {\"rand\": rand_place, \"most\": most_place, \"least\": least_place, \"nimsum\": nimsum_place}"
   ]
  },
  {
   "attachments": {},
   "cell_type": "markdown",
   "metadata": {},
   "source": [
    "## Full Policy"
   ]
  },
  {
   "cell_type": "code",
   "execution_count": 8,
   "metadata": {},
   "outputs": [],
   "source": [
    "def ga_play(state: Nim, genome: list) -> Nimply:\n",
    "    for g in genome:\n",
    "        if (conditions[g[0]](state)):\n",
    "            move = actions[g[1]](state, places[g[2]](state))\n",
    "            return move\n",
    "    return lose_game()\n",
    "\n",
    "class EvolvedAgent:\n",
    "    def __init__(self, individual: Individual):\n",
    "        self.genome = individual.genome\n",
    "    def play(self, game):\n",
    "        return ga_play(game, self.genome)"
   ]
  },
  {
   "cell_type": "markdown",
   "metadata": {},
   "source": [
    "## Fitness"
   ]
  },
  {
   "cell_type": "code",
   "execution_count": 9,
   "metadata": {},
   "outputs": [],
   "source": [
    "def evaluate(genome: list) -> float:\n",
    "    win_count = 0\n",
    "    for _ in range(eval_amount):\n",
    "        game = Nim(random.randint(5,21))\n",
    "        turn=1\n",
    "        while not game.endTest():\n",
    "            turn = 1 - turn\n",
    "            if not turn:\n",
    "                game.nimming(ga_play(game,genome))\n",
    "            else:\n",
    "                game.nimming(pure_random(game))\n",
    "        if turn:\n",
    "            win_count += 1\n",
    "    return win_count/eval_amount"
   ]
  },
  {
   "cell_type": "markdown",
   "metadata": {},
   "source": [
    "## GA Functions"
   ]
  },
  {
   "cell_type": "code",
   "execution_count": 10,
   "metadata": {},
   "outputs": [],
   "source": [
    "import copy\n",
    "\n",
    "def generate_population(population_size):\n",
    "    population = list()\n",
    "    for _ in range(population_size):\n",
    "        genome = list()\n",
    "        for _ in range(genome_size):\n",
    "            gene = (random.choice(list(conditions.keys())), random.choice(list(actions.keys())), random.choice(list(places.keys())))\n",
    "            genome.append(gene)\n",
    "        population.append(Individual(genome, evaluate(genome)))\n",
    "    return population\n",
    "\n",
    "def mutation(indiv: Individual) -> Individual:\n",
    "    mutable = [conditions, actions, places]\n",
    "\n",
    "    mut_gene_idx = random.randrange(0, genome_size)\n",
    "    mut_attr_idx = random.randrange(0, 3)\n",
    "    attr = indiv.genome[mut_gene_idx][mut_attr_idx]\n",
    "\n",
    "    acceptable = list(mutable[mut_attr_idx].keys())\n",
    "    acceptable.remove(attr)\n",
    "    new_attr = random.choice(acceptable)\n",
    "    new_genome = copy.deepcopy(indiv.genome)\n",
    "    new_genome[mut_gene_idx]=indiv.genome[mut_gene_idx][:mut_attr_idx]+(new_attr,)+indiv.genome[mut_gene_idx][mut_attr_idx+1:]\n",
    "    fitness = evaluate(new_genome)\n",
    "    return Individual(new_genome,fitness)\n",
    "\n",
    "def cross_over(i1: Individual, i2: Individual) -> Individual:\n",
    "    cross_over_point = random.randrange(1, genome_size)\n",
    "    new_genome = list()\n",
    "    for i in range(genome_size):\n",
    "        if (i < cross_over_point):\n",
    "            new_genome.append(i1.genome[i])\n",
    "        else:\n",
    "            new_genome.append(i2.genome[i])\n",
    "    return Individual(new_genome, evaluate(new_genome))\n",
    "\n",
    "def tournament(population,tournament_size=2):\n",
    "    return max(random.choices(population, k=tournament_size), key=lambda i:i[1])\n",
    "\n",
    "def evolution() -> Individual:\n",
    "    population = generate_population(population_size)\n",
    "\n",
    "    for g in range(generations):\n",
    "        offspring = list()\n",
    "        for i in range(offspring_size):\n",
    "            if random.random() < 0.7:\n",
    "                p = tournament(population)\n",
    "                o = mutation(p)\n",
    "            else:\n",
    "                p1 = tournament(population)\n",
    "                p2 = tournament(population)\n",
    "                o = cross_over(p1, p2)\n",
    "            offspring.append(o)\n",
    "        population += offspring\n",
    "        population = sorted(population, key=lambda i: i[1], reverse=True)[:population_size]\n",
    "\n",
    "    solution = population[0]\n",
    "    return solution"
   ]
  },
  {
   "attachments": {},
   "cell_type": "markdown",
   "metadata": {},
   "source": [
    "## Play"
   ]
  },
  {
   "cell_type": "code",
   "execution_count": 11,
   "metadata": {},
   "outputs": [
    {
     "ename": "ValueError",
     "evalue": "empty range for randrange() (1, 1, 0)",
     "output_type": "error",
     "traceback": [
      "\u001b[1;31m---------------------------------------------------------------------------\u001b[0m",
      "\u001b[1;31mValueError\u001b[0m                                Traceback (most recent call last)",
      "Cell \u001b[1;32mIn [11], line 2\u001b[0m\n\u001b[0;32m      1\u001b[0m game \u001b[39m=\u001b[39m Nim(nim_rows)\n\u001b[1;32m----> 2\u001b[0m best_individual \u001b[39m=\u001b[39m evolution()\n\u001b[0;32m      3\u001b[0m evaluate(best_individual\u001b[39m.\u001b[39mgenome)\n\u001b[0;32m      5\u001b[0m ea \u001b[39m=\u001b[39m EvolvedAgent(best_individual)\n",
      "Cell \u001b[1;32mIn [10], line 42\u001b[0m, in \u001b[0;36mevolution\u001b[1;34m()\u001b[0m\n\u001b[0;32m     41\u001b[0m \u001b[39mdef\u001b[39;00m \u001b[39mevolution\u001b[39m() \u001b[39m-\u001b[39m\u001b[39m>\u001b[39m Individual:\n\u001b[1;32m---> 42\u001b[0m     population \u001b[39m=\u001b[39m generate_population(population_size)\n\u001b[0;32m     44\u001b[0m     \u001b[39mfor\u001b[39;00m g \u001b[39min\u001b[39;00m \u001b[39mrange\u001b[39m(generations):\n\u001b[0;32m     45\u001b[0m         offspring \u001b[39m=\u001b[39m \u001b[39mlist\u001b[39m()\n",
      "Cell \u001b[1;32mIn [10], line 10\u001b[0m, in \u001b[0;36mgenerate_population\u001b[1;34m(population_size)\u001b[0m\n\u001b[0;32m      8\u001b[0m         gene \u001b[39m=\u001b[39m (random\u001b[39m.\u001b[39mchoice(\u001b[39mlist\u001b[39m(conditions\u001b[39m.\u001b[39mkeys())), random\u001b[39m.\u001b[39mchoice(\u001b[39mlist\u001b[39m(actions\u001b[39m.\u001b[39mkeys())), random\u001b[39m.\u001b[39mchoice(\u001b[39mlist\u001b[39m(places\u001b[39m.\u001b[39mkeys())))\n\u001b[0;32m      9\u001b[0m         genome\u001b[39m.\u001b[39mappend(gene)\n\u001b[1;32m---> 10\u001b[0m     population\u001b[39m.\u001b[39mappend(Individual(genome, evaluate(genome)))\n\u001b[0;32m     11\u001b[0m \u001b[39mreturn\u001b[39;00m population\n",
      "Cell \u001b[1;32mIn [9], line 9\u001b[0m, in \u001b[0;36mevaluate\u001b[1;34m(genome)\u001b[0m\n\u001b[0;32m      7\u001b[0m turn \u001b[39m=\u001b[39m \u001b[39m1\u001b[39m \u001b[39m-\u001b[39m turn\n\u001b[0;32m      8\u001b[0m \u001b[39mif\u001b[39;00m \u001b[39mnot\u001b[39;00m turn:\n\u001b[1;32m----> 9\u001b[0m     game\u001b[39m.\u001b[39mnimming(ga_play(game,genome))\n\u001b[0;32m     10\u001b[0m \u001b[39melse\u001b[39;00m:\n\u001b[0;32m     11\u001b[0m     game\u001b[39m.\u001b[39mnimming(pure_random(game))\n",
      "Cell \u001b[1;32mIn [8], line 4\u001b[0m, in \u001b[0;36mga_play\u001b[1;34m(state, genome)\u001b[0m\n\u001b[0;32m      2\u001b[0m \u001b[39mfor\u001b[39;00m g \u001b[39min\u001b[39;00m genome:\n\u001b[0;32m      3\u001b[0m     \u001b[39mif\u001b[39;00m (conditions[g[\u001b[39m0\u001b[39m]](state)):\n\u001b[1;32m----> 4\u001b[0m         move \u001b[39m=\u001b[39m actions[g[\u001b[39m1\u001b[39;49m]](state, places[g[\u001b[39m2\u001b[39;49m]](state))\n\u001b[0;32m      5\u001b[0m         \u001b[39mreturn\u001b[39;00m move\n\u001b[0;32m      6\u001b[0m \u001b[39mreturn\u001b[39;00m lose_game()\n",
      "Cell \u001b[1;32mIn [4], line 14\u001b[0m, in \u001b[0;36mrand_get\u001b[1;34m(state, row)\u001b[0m\n\u001b[0;32m     13\u001b[0m \u001b[39mdef\u001b[39;00m \u001b[39mrand_get\u001b[39m(state: Nim, row: \u001b[39mint\u001b[39m) \u001b[39m-\u001b[39m\u001b[39m>\u001b[39m Nimply:\n\u001b[1;32m---> 14\u001b[0m     num_objects \u001b[39m=\u001b[39m random\u001b[39m.\u001b[39;49mrandint(\u001b[39m1\u001b[39;49m, state\u001b[39m.\u001b[39;49mrows[row])\n\u001b[0;32m     15\u001b[0m     \u001b[39mreturn\u001b[39;00m Nimply(row, num_objects)\n",
      "File \u001b[1;32mc:\\Users\\Matteo\\AppData\\Local\\Programs\\Python\\Python310\\lib\\random.py:370\u001b[0m, in \u001b[0;36mRandom.randint\u001b[1;34m(self, a, b)\u001b[0m\n\u001b[0;32m    366\u001b[0m \u001b[39mdef\u001b[39;00m \u001b[39mrandint\u001b[39m(\u001b[39mself\u001b[39m, a, b):\n\u001b[0;32m    367\u001b[0m     \u001b[39m\"\"\"Return random integer in range [a, b], including both end points.\u001b[39;00m\n\u001b[0;32m    368\u001b[0m \u001b[39m    \"\"\"\u001b[39;00m\n\u001b[1;32m--> 370\u001b[0m     \u001b[39mreturn\u001b[39;00m \u001b[39mself\u001b[39;49m\u001b[39m.\u001b[39;49mrandrange(a, b\u001b[39m+\u001b[39;49m\u001b[39m1\u001b[39;49m)\n",
      "File \u001b[1;32mc:\\Users\\Matteo\\AppData\\Local\\Programs\\Python\\Python310\\lib\\random.py:353\u001b[0m, in \u001b[0;36mRandom.randrange\u001b[1;34m(self, start, stop, step)\u001b[0m\n\u001b[0;32m    351\u001b[0m     \u001b[39mif\u001b[39;00m width \u001b[39m>\u001b[39m \u001b[39m0\u001b[39m:\n\u001b[0;32m    352\u001b[0m         \u001b[39mreturn\u001b[39;00m istart \u001b[39m+\u001b[39m \u001b[39mself\u001b[39m\u001b[39m.\u001b[39m_randbelow(width)\n\u001b[1;32m--> 353\u001b[0m     \u001b[39mraise\u001b[39;00m \u001b[39mValueError\u001b[39;00m(\u001b[39m\"\u001b[39m\u001b[39mempty range for randrange() (\u001b[39m\u001b[39m%d\u001b[39;00m\u001b[39m, \u001b[39m\u001b[39m%d\u001b[39;00m\u001b[39m, \u001b[39m\u001b[39m%d\u001b[39;00m\u001b[39m)\u001b[39m\u001b[39m\"\u001b[39m \u001b[39m%\u001b[39m (istart, istop, width))\n\u001b[0;32m    355\u001b[0m \u001b[39m# Non-unit step argument supplied.\u001b[39;00m\n\u001b[0;32m    356\u001b[0m \u001b[39mif\u001b[39;00m istep \u001b[39m>\u001b[39m \u001b[39m0\u001b[39m:\n",
      "\u001b[1;31mValueError\u001b[0m: empty range for randrange() (1, 1, 0)"
     ]
    }
   ],
   "source": [
    "game = Nim(nim_rows)\n",
    "best_individual = evolution()\n",
    "evaluate(best_individual.genome)\n",
    "\n",
    "ea = EvolvedAgent(best_individual)\n",
    "sandbox(game, ea.play)"
   ]
  }
 ],
 "metadata": {
  "kernelspec": {
   "display_name": "Python 3",
   "language": "python",
   "name": "python3"
  },
  "language_info": {
   "codemirror_mode": {
    "name": "ipython",
    "version": 3
   },
   "file_extension": ".py",
   "mimetype": "text/x-python",
   "name": "python",
   "nbconvert_exporter": "python",
   "pygments_lexer": "ipython3",
   "version": "3.10.6"
  },
  "orig_nbformat": 4,
  "vscode": {
   "interpreter": {
    "hash": "cf44e1cfd43590f45f0e2b5c28e0f46babf55befe4ad1bacdd60a06d73372734"
   }
  }
 },
 "nbformat": 4,
 "nbformat_minor": 2
}
