{
 "cells": [
  {
   "cell_type": "markdown",
   "metadata": {},
   "source": [
    "## Imports & Global Vars"
   ]
  },
  {
   "cell_type": "code",
   "execution_count": 1,
   "metadata": {},
   "outputs": [],
   "source": [
    "from Nim import *\n",
    "\n",
    "cnt = 0\n",
    "\n",
    "nim_rows = 3\n",
    "stop_lvl = 6\n",
    "pruning_factor = 5\n",
    "eval_amount =50"
   ]
  },
  {
   "cell_type": "markdown",
   "metadata": {},
   "source": [
    "## MinMax"
   ]
  },
  {
   "cell_type": "code",
   "execution_count": null,
   "metadata": {},
   "outputs": [],
   "source": [
    "def minmax(state: Nim,stop_lvl, lvl) -> Nimply:\n",
    "    possible = [Nimply(r, o) for r, c in enumerate(state.rows) for o in range(1,c+1)]\n",
    "    possible.reverse()\n",
    "    if state.endTest():\n",
    "        return None, 1\n",
    "    if lvl > stop_lvl:   #level stop\n",
    "        possible = random.sample(possible, k=max(int(len(possible)/pruning_factor),1))\n",
    "\n",
    "    evaluations = list()\n",
    "    for ply in possible:\n",
    "        new_state = Nim(0, state.k).fromRows(state.rows)\n",
    "        new_state.nimming(ply)\n",
    "\n",
    "        _, val = minmax(new_state, lvl+1,stop_lvl)\n",
    "        if -val == 1:\n",
    "            return ply,-val\n",
    "        evaluations.append((ply, -val))\n",
    "    ply=max(evaluations, key=lambda k: k[1])\n",
    "    return ply[0]\n",
    "\n",
    "class MinmaxAgent:\n",
    "    def __init__(self, stop_lvl):\n",
    "        self.stop_lvl = stop_lvl\n",
    "    \n",
    "    def play(self, game):\n",
    "        return minmax(game, self.stop_lvl,0)"
   ]
  },
  {
   "cell_type": "markdown",
   "metadata": {},
   "source": [
    "## Play"
   ]
  },
  {
   "cell_type": "code",
   "execution_count": null,
   "metadata": {},
   "outputs": [
    {
     "name": "stdout",
     "output_type": "stream",
     "text": [
      "Format: #row #amount\n",
      "0 : | \n",
      "\n",
      "1 : | | | \n",
      "\n",
      "2 : | | | | | \n",
      "\n",
      "Your turn:\n",
      "Enter row index and number of elements to remove: 2 3\n",
      "0 : | \n",
      "\n",
      "1 : | | | \n",
      "\n",
      "2 : | | \n",
      "\n",
      "Agent's turn:\n",
      "0 : | \n",
      "\n",
      "1 : | | | \n",
      "\n",
      "2 : | \n",
      "\n",
      "Your turn:\n"
     ]
    }
   ],
   "source": [
    "game = Nim(nim_rows)\n",
    "\n",
    "ma = MinmaxAgent(stop_lvl)\n",
    "sandbox(game, ma.play)"
   ]
  },
  {
   "cell_type": "code",
   "execution_count": null,
   "metadata": {},
   "outputs": [],
   "source": []
  }
 ],
 "metadata": {
  "kernelspec": {
   "display_name": "Python 3 (ipykernel)",
   "language": "python",
   "name": "python3"
  },
  "language_info": {
   "codemirror_mode": {
    "name": "ipython",
    "version": 3
   },
   "file_extension": ".py",
   "mimetype": "text/x-python",
   "name": "python",
   "nbconvert_exporter": "python",
   "pygments_lexer": "ipython3",
   "version": "3.9.12"
  },
  "vscode": {
   "interpreter": {
    "hash": "cf44e1cfd43590f45f0e2b5c28e0f46babf55befe4ad1bacdd60a06d73372734"
   }
  }
 },
 "nbformat": 4,
 "nbformat_minor": 2
}
