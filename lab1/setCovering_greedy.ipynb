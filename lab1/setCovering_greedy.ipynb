{
 "cells": [
  {
   "cell_type": "markdown",
   "metadata": {},
   "source": [
    "### Problem\n",
    "\n",
    "First things first, we need a problem.\n",
    "It has been kindly provided by the Professor."
   ]
  },
  {
   "cell_type": "code",
   "execution_count": 1,
   "metadata": {},
   "outputs": [],
   "source": [
    "import random\n",
    "\n",
    "def problem(N, seed=42):\n",
    "    random.seed(seed)\n",
    "    return [\n",
    "        list(set(random.randint(0, N - 1) for n in range(random.randint(N // 5, N // 2))))\n",
    "        for n in range(random.randint(N, N * 5))\n",
    "    ]\n",
    "    \n",
    "def goal(N):\n",
    "    return set(range(N))"
   ]
  },
  {
   "cell_type": "markdown",
   "metadata": {},
   "source": [
    "### Cost\n",
    "\n",
    "The cost function associates a cost to the selected choice, given the current state.\n",
    "The choice cost is increased by one for every element that's already in the state."
   ]
  },
  {
   "cell_type": "code",
   "execution_count": 2,
   "metadata": {},
   "outputs": [],
   "source": [
    "def cost(new, current):\n",
    "    cost = 0\n",
    "    cset = set(current)\n",
    "    for e in new:\n",
    "        if (e in cset):\n",
    "            cost += 1\n",
    "    return cost"
   ]
  },
  {
   "cell_type": "markdown",
   "metadata": {},
   "source": [
    "### Decision\n",
    "\n",
    "The decision function queries the cost function for each possible choice, and chooses the one with the least cost.\n",
    "(The first choice just selects the longest list)"
   ]
  },
  {
   "cell_type": "code",
   "execution_count": 3,
   "metadata": {},
   "outputs": [],
   "source": [
    "from functools import reduce\n",
    "\n",
    "def find_best(listlist, current):\n",
    "    bestcost = None\n",
    "    bestindex = len(listlist)\n",
    "    if (len(current) == 0):\n",
    "        selected = reduce(lambda a, b : a if (len(a) > len(b)) else b, listlist)\n",
    "        listlist.remove(selected)\n",
    "        return selected, 0\n",
    "\n",
    "    for i, l in enumerate(listlist):\n",
    "        tcost = cost(l, current)\n",
    "        if (bestcost == None or tcost < bestcost):\n",
    "            bestcost = tcost\n",
    "            bestindex = i\n",
    "    return listlist.pop(bestindex), bestcost"
   ]
  },
  {
   "cell_type": "code",
   "execution_count": 4,
   "metadata": {},
   "outputs": [],
   "source": [
    "def better_greedy(goal, problem):\n",
    "    solution = list()\n",
    "    solution_set = set()\n",
    "    solution_cost = 0\n",
    "    while solution_set != goal:\n",
    "        next_elem, next_cost = find_best(problem, solution_set)\n",
    "        solution.append(next_elem)\n",
    "        solution_set.update(set(next_elem))\n",
    "        solution_cost += next_cost\n",
    "    return solution, solution_cost"
   ]
  },
  {
   "cell_type": "code",
   "execution_count": 5,
   "metadata": {},
   "outputs": [
    {
     "name": "stdout",
     "output_type": "stream",
     "text": [
      "Solution for N = 5:\n",
      "# of lists: 4\n",
      "# of elements: 5\n",
      "\n",
      "Solution for N = 10:\n",
      "# of lists: 5\n",
      "# of elements: 12\n",
      "\n",
      "Solution for N = 20:\n",
      "# of lists: 4\n",
      "# of elements: 24\n",
      "\n",
      "Solution for N = 100:\n",
      "# of lists: 15\n",
      "# of elements: 289\n",
      "\n",
      "Solution for N = 500:\n",
      "# of lists: 19\n",
      "# of elements: 1829\n",
      "\n",
      "Solution for N = 1000:\n",
      "# of lists: 24\n",
      "# of elements: 4530\n",
      "\n"
     ]
    }
   ],
   "source": [
    "for N in [5, 10, 20, 100, 500, 1000]:\n",
    "    go = goal(N)\n",
    "    pr = problem(N)\n",
    "    solution, solution_cost = better_greedy(go, pr)\n",
    "    print(f\"Solution for N = {N}:\\n# of lists: {len(solution)}\\n# of elements: {N + solution_cost}\\n\")"
   ]
  }
 ],
 "metadata": {
  "kernelspec": {
   "display_name": "Python 3.10.8 64-bit (microsoft store)",
   "language": "python",
   "name": "python3"
  },
  "language_info": {
   "codemirror_mode": {
    "name": "ipython",
    "version": 3
   },
   "file_extension": ".py",
   "mimetype": "text/x-python",
   "name": "python",
   "nbconvert_exporter": "python",
   "pygments_lexer": "ipython3",
   "version": "3.10.8"
  },
  "orig_nbformat": 4,
  "vscode": {
   "interpreter": {
    "hash": "e0acaf148705ed9ed86cc5cad12259d7985e30670e5686e5f55604a9b3b84a55"
   }
  }
 },
 "nbformat": 4,
 "nbformat_minor": 2
}
