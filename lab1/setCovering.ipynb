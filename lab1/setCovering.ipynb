{
 "cells": [
  {
   "cell_type": "markdown",
   "metadata": {},
   "source": [
    "### Problem\n",
    "\n",
    "First things first, we need a problem.\n",
    "It has been kindly provided by the Professor."
   ]
  },
  {
   "cell_type": "code",
   "execution_count": 1,
   "metadata": {},
   "outputs": [],
   "source": [
    "import random\n",
    "\n",
    "def problem(N, seed=None):\n",
    "    random.seed(seed)\n",
    "    return [\n",
    "        list(set(random.randint(0, N - 1) for n in range(random.randint(N // 5, N // 2))))\n",
    "        for n in range(random.randint(N, N * 5))\n",
    "    ]\n",
    "\n",
    "def remove_duplicates(problem):\n",
    "    unique = set()\n",
    "    for el in problem:\n",
    "        unique.add(frozenset(el))\n",
    "    return unique    \n",
    "\n",
    "def goal(N):\n",
    "    return set(range(N))"
   ]
  },
  {
   "cell_type": "markdown",
   "metadata": {},
   "source": [
    "### Cost\n",
    "\n",
    "The cost function associates a cost to the selected choice, given the current state.\n",
    "The cost of a choice is increased by one for every element that's already in the state, but it's also divided by the number of elements in the state, as it (in theory) compensates the fact that it's more likely for earlier attempts to have a lower chance of adding a duplicate."
   ]
  },
  {
   "cell_type": "code",
   "execution_count": 2,
   "metadata": {},
   "outputs": [],
   "source": [
    "def cost_fun(new, current):\n",
    "    cost = 0\n",
    "    cset = set(current)\n",
    "    for e in new:\n",
    "        if (e in cset):\n",
    "            cost += 1\n",
    "    return cost/(len(current) + 1)"
   ]
  },
  {
   "cell_type": "markdown",
   "metadata": {},
   "source": [
    "### Goal\n",
    "\n",
    "The goal test function verifies if the problems constraints are satisfied (in this case, since we're working with sets, it just checks if solution and goal coincide)."
   ]
  },
  {
   "cell_type": "code",
   "execution_count": 3,
   "metadata": {},
   "outputs": [],
   "source": [
    "def goal_test(state, goal):\n",
    "    return state == goal"
   ]
  },
  {
   "cell_type": "markdown",
   "metadata": {},
   "source": [
    "### Generator\n",
    "\n",
    "The generator function provides a set containing every possible choice given a state."
   ]
  },
  {
   "cell_type": "code",
   "execution_count": 4,
   "metadata": {},
   "outputs": [],
   "source": [
    "def possible_actions(state, problem):\n",
    "    return set(s for s in problem if s not in state)"
   ]
  },
  {
   "cell_type": "code",
   "execution_count": 5,
   "metadata": {},
   "outputs": [],
   "source": [
    "from queue import PriorityQueue\n",
    "\n",
    "def search(goal, problem):\n",
    "    frontier = PriorityQueue()\n",
    "    parent_state = {}\n",
    "    state_cost = {}\n",
    "    state_elems = {}\n",
    "    state = frozenset()\n",
    "    solution = list()\n",
    "    parent_state[state] = None\n",
    "    state_cost[state] = 0\n",
    "    state_elems[state] = 0\n",
    "\n",
    "    while state is not None and not goal_test(state, goal):\n",
    "        for a in possible_actions(state, problem):\n",
    "            new_state = frozenset(list(state) + list(a))\n",
    "            cost = cost_fun(a, state)\n",
    "            if new_state not in state_cost and new_state not in frontier.queue:\n",
    "                parent_state[new_state] = state\n",
    "                state_cost[new_state] = cost\n",
    "                state_elems[new_state] = state_elems[state] + len(a)\n",
    "                frontier.put((int(N - cost), new_state))\n",
    "            elif new_state in frontier.queue and cost < state_cost[new_state]:\n",
    "                parent_state[new_state] = state\n",
    "                state_cost[new_state] = cost\n",
    "        if frontier:\n",
    "            state = frontier.get()[1]\n",
    "        else:\n",
    "            state = None\n",
    "    return state_elems[state], len(state_cost)"
   ]
  },
  {
   "cell_type": "code",
   "execution_count": 6,
   "metadata": {},
   "outputs": [
    {
     "name": "stdout",
     "output_type": "stream",
     "text": [
      "Solution for N = 5:\n",
      "7 elements\n",
      "28 nodes visited\n",
      "Solution for N = 10:\n",
      "11 elements\n",
      "706 nodes visited\n",
      "Solution for N = 20:\n",
      "46 elements\n",
      "751 nodes visited\n"
     ]
    }
   ],
   "source": [
    "for N in [5, 10, 20, 100, 500, 1000]:\n",
    "    go = goal(N)\n",
    "    pr = remove_duplicates(problem(N, 42))\n",
    "    solution, n = search(go, pr)\n",
    "    print(f\"Solution for N = {N}:\\n{solution} elements\\n{n} nodes visited\")"
   ]
  }
 ],
 "metadata": {
  "kernelspec": {
   "display_name": "Python 3.10.8 64-bit (microsoft store)",
   "language": "python",
   "name": "python3"
  },
  "language_info": {
   "codemirror_mode": {
    "name": "ipython",
    "version": 3
   },
   "file_extension": ".py",
   "mimetype": "text/x-python",
   "name": "python",
   "nbconvert_exporter": "python",
   "pygments_lexer": "ipython3",
   "version": "3.10.8"
  },
  "orig_nbformat": 4,
  "vscode": {
   "interpreter": {
    "hash": "e0acaf148705ed9ed86cc5cad12259d7985e30670e5686e5f55604a9b3b84a55"
   }
  }
 },
 "nbformat": 4,
 "nbformat_minor": 2
}
