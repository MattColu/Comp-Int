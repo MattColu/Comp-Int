{
 "cells": [
  {
   "cell_type": "code",
   "execution_count": null,
   "metadata": {},
   "outputs": [],
   "source": [
    "import random\n",
    "\n",
    "def problem(N, seed=None):\n",
    "    random.seed(seed)\n",
    "    return [\n",
    "        list(set(random.randint(0, N - 1) for n in range(random.randint(N // 5, N // 2))))\n",
    "        for n in range(random.randint(N, N * 5))\n",
    "    ]\n",
    "\n",
    "def remove_duplicates(problem):\n",
    "    unique = set()\n",
    "    for el in problem:\n",
    "        unique.add(frozenset(el))\n",
    "    return unique    \n",
    "\n",
    "def goal(N):\n",
    "    return set(range(N))\n",
    "\n",
    "def test(l, goal):\n",
    "    return set(l) == goal"
   ]
  },
  {
   "cell_type": "code",
   "execution_count": null,
   "metadata": {},
   "outputs": [],
   "source": [
    "def score(l, problem):\n",
    "    selection = list()\n",
    "    for s, p in zip(l, problem):\n",
    "        if s:\n",
    "            selection.append(p)\n",
    "    unique_len = len(set(selection))\n",
    "    nrep = len(selection) - unique_len\n",
    "    return unique_len/(nrep + 1)"
   ]
  },
  {
   "cell_type": "code",
   "execution_count": null,
   "metadata": {},
   "outputs": [],
   "source": [
    "from collections import namedtuple\n",
    "\n",
    "Individual = namedtuple(\"Individual\", [\"genome\", \"fitness\"])\n",
    "\n",
    "def generate_population(problem_size, population_size):\n",
    "    population = list()\n",
    "    for genome in [tuple([random.choice([1, 0]) for _ in range(problem_size)]) for _ in range(population_size)]:\n",
    "        population.append(Individual(genome, score(genome)))\n"
   ]
  }
 ],
 "metadata": {
  "kernelspec": {
   "display_name": "Python 3.6.4 32-bit",
   "language": "python",
   "name": "python3"
  },
  "language_info": {
   "name": "python",
   "version": "3.6.4"
  },
  "orig_nbformat": 4,
  "vscode": {
   "interpreter": {
    "hash": "723126251c540906a8998a5a5bb1080e4958dc677b78d1effbb59cd26c506533"
   }
  }
 },
 "nbformat": 4,
 "nbformat_minor": 2
}
