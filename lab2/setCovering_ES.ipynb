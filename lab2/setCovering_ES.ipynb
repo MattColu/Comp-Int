{
 "cells": [
  {
   "cell_type": "code",
   "execution_count": null,
   "metadata": {},
   "outputs": [],
   "source": [
    "import random\n",
    "\n",
    "def problem(N, seed=None):\n",
    "    random.seed(seed)\n",
    "    return [\n",
    "        list(set(random.randint(0, N - 1) for n in range(random.randint(N // 5, N // 2))))\n",
    "        for n in range(random.randint(N, N * 5))\n",
    "    ]\n",
    "\n",
    "def remove_duplicates(problem):\n",
    "    unique = set()\n",
    "    for el in problem:\n",
    "        unique.add(frozenset(el))\n",
    "    return unique    \n",
    "\n",
    "def goal(N):\n",
    "    return set(range(N))\n",
    "\n",
    "def test(l, goal):\n",
    "    return set(l) == goal"
   ]
  },
  {
   "cell_type": "markdown",
   "metadata": {},
   "source": [
    "## Evaluation\n",
    "The `score` function evaluates the fitness of an individual, favoring coverage of the problem and penalizing repetitions."
   ]
  },
  {
   "cell_type": "code",
   "execution_count": null,
   "metadata": {},
   "outputs": [],
   "source": [
    "def genome_to_single_list(g, problem):\n",
    "    selection = list()\n",
    "    for s, p in zip(g, problem):\n",
    "        if s:\n",
    "            selection.append(p)\n",
    "    return [item for subl in selection for item in subl]\n",
    "\n",
    "def score(g, problem):\n",
    "    selection = genome_to_single_list(g, problem)\n",
    "    unique_len = len(set(selection))\n",
    "    nrep = len(selection) - unique_len\n",
    "    return unique_len - nrep/(1 + unique_len)"
   ]
  },
  {
   "cell_type": "markdown",
   "metadata": {},
   "source": [
    "## Individual\n",
    "An `Individual` is represented by the tuple (`genome`, `fitness`), respectively a list of [1,0] and a float."
   ]
  },
  {
   "cell_type": "code",
   "execution_count": null,
   "metadata": {},
   "outputs": [],
   "source": [
    "from collections import namedtuple\n",
    "\n",
    "Individual = namedtuple(\"Individual\", [\"genome\", \"fitness\"])"
   ]
  },
  {
   "cell_type": "code",
   "execution_count": null,
   "metadata": {},
   "outputs": [],
   "source": [
    "def generate_population(problem_size, population_size):\n",
    "    population = list()\n",
    "    for genome in [tuple([random.choice([1, 0]) for _ in range(problem_size)]) for _ in range(population_size)]:\n",
    "        population.append(Individual(genome, score(genome)))"
   ]
  },
  {
   "cell_type": "markdown",
   "metadata": {},
   "source": [
    "## Mutation\n",
    "`mutate` inverts the value of one random locus of the genome of an individual."
   ]
  },
  {
   "cell_type": "code",
   "execution_count": null,
   "metadata": {},
   "outputs": [],
   "source": [
    "def mutate(i, problem):\n",
    "    g = i.genome\n",
    "    point = random.randint(0, len(g) - 1)\n",
    "    new_g = g[:point] + (1 - g[point],) + g[point + 1 :]\n",
    "    return Individual(new_g, score(new_g, problem))"
   ]
  },
  {
   "cell_type": "markdown",
   "metadata": {},
   "source": [
    "## Crossing-over\n",
    "`crossover` replaces a random portion of the genome of the first individual with the corresponding part of the genome of the second individual."
   ]
  },
  {
   "cell_type": "code",
   "execution_count": null,
   "metadata": {},
   "outputs": [],
   "source": [
    "def cross_over(i1, i2, problem):\n",
    "    g1 = i1.genome\n",
    "    g2 = i2.genome\n",
    "    cut = random.randint(0, len(g1))\n",
    "    g = g1[:cut] + g2[cut:]\n",
    "    return Individual(g, score(g, problem))"
   ]
  },
  {
   "cell_type": "markdown",
   "metadata": {},
   "source": [
    "## Tournament\n",
    "`tournament` selects the `2` (parameter `tournament_size`) best individuals from the population, based on their fitness."
   ]
  },
  {
   "cell_type": "code",
   "execution_count": null,
   "metadata": {},
   "outputs": [],
   "source": [
    "def tournament(population, tournament_size=2):\n",
    "    return max(random.choices(population, k=tournament_size), key=lambda i: i.fitness)"
   ]
  },
  {
   "cell_type": "code",
   "execution_count": null,
   "metadata": {},
   "outputs": [],
   "source": [
    "def evolution(N, Nproblem, generations, pop_size, off_size):\n",
    "    \n",
    "    population = list()\n",
    "    old_best = Individual([], 0)\n",
    "    stagnation_counter = 0\n",
    "    \n",
    "    for genome in [tuple([random.choice([1, 0]) for _ in range(len(Nproblem))]) for _ in range(pop_size)]:\n",
    "        population.append(Individual(genome, score(genome, Nproblem)))\n",
    "\n",
    "    for g in range(generations):\n",
    "        \n",
    "        if (stagnation_counter > generations/10):\n",
    "            break\n",
    "\n",
    "        offspring = list()\n",
    "        for i in range(off_size):\n",
    "            if random.random() < 0.10:\n",
    "                p = tournament(population)\n",
    "                o = mutate(p, Nproblem)\n",
    "            else:\n",
    "                p1 = tournament(population)\n",
    "                p2 = tournament(population)\n",
    "                o = cross_over(p1, p2, Nproblem)\n",
    "            offspring.append(o)\n",
    "        population += offspring\n",
    "        population = sorted(population, key=lambda i: i.fitness, reverse=True)[:pop_size]\n",
    "\n",
    "        if (population[0] == old_best):\n",
    "            stagnation_counter += 1\n",
    "        else:\n",
    "            old_best = population[0]\n",
    "            stagnation_counter = 0\n",
    "    \n",
    "    for i in population:\n",
    "        if (test(genome_to_single_list(i.genome, Nproblem), goal(N))):\n",
    "            return i\n",
    "    print(\"↓↓↓ NOT ACCEPTABLE! ↓↓↓\")\n",
    "    return population[0]"
   ]
  },
  {
   "cell_type": "code",
   "execution_count": null,
   "metadata": {},
   "outputs": [],
   "source": [
    "NUM_GENERATIONS = 500\n",
    "INITIAL_POPULATION_SIZE = 1000\n",
    "SEED = 42\n",
    "\n",
    "for size in [5, 10, 20, 100, 500, 1000]:\n",
    "    population_size = int(INITIAL_POPULATION_SIZE)\n",
    "    offspring_size = int(population_size)\n",
    "    Nproblem = remove_duplicates(problem(size, seed=SEED))\n",
    "    best = evolution(size, Nproblem, NUM_GENERATIONS, population_size, offspring_size)\n",
    "    print(\"Size: \", size, \"\\tSolution: \", len(genome_to_single_list(best.genome, Nproblem)))"
   ]
  }
 ],
 "metadata": {
  "kernelspec": {
   "display_name": "Python 3.10.6 64-bit",
   "language": "python",
   "name": "python3"
  },
  "language_info": {
   "codemirror_mode": {
    "name": "ipython",
    "version": 3
   },
   "file_extension": ".py",
   "mimetype": "text/x-python",
   "name": "python",
   "nbconvert_exporter": "python",
   "pygments_lexer": "ipython3",
   "version": "3.10.6"
  },
  "orig_nbformat": 4,
  "vscode": {
   "interpreter": {
    "hash": "cf44e1cfd43590f45f0e2b5c28e0f46babf55befe4ad1bacdd60a06d73372734"
   }
  }
 },
 "nbformat": 4,
 "nbformat_minor": 2
}
